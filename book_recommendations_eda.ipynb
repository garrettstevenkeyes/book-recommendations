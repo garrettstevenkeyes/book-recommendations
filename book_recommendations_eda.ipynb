{
 "cells": [
  {
   "cell_type": "markdown",
   "metadata": {},
   "source": [
    "# Book Recommendation EDA"
   ]
  },
  {
   "cell_type": "code",
   "execution_count": 3,
   "metadata": {
    "ExecuteTime": {
     "end_time": "2020-02-01T20:28:32.195219Z",
     "start_time": "2020-02-01T20:28:32.186402Z"
    }
   },
   "outputs": [],
   "source": [
    "import pandas as pd\n",
    "import requests\n",
    "import csv\n",
    "import numpy as np\n",
    "import re\n",
    "from urllib.request import Request, urlopen\n",
    "import ast\n",
    "#plotting tools\n",
    "import matplotlib.pyplot as plt\n",
    "%matplotlib inline\n",
    "from statistics import mean, median, mode\n",
    "import unicodedata\n",
    "import pyLDAvis.gensim\n",
    "from spacy import displacy\n",
    "import scattertext as st\n",
    "import inflect\n",
    "import scattertext as st\n",
    "from pprint import pprint\n",
    "import explacy"
   ]
  },
  {
   "cell_type": "code",
   "execution_count": 4,
   "metadata": {
    "ExecuteTime": {
     "end_time": "2020-02-01T20:28:34.628983Z",
     "start_time": "2020-02-01T20:28:33.941285Z"
    }
   },
   "outputs": [],
   "source": [
    "movie_df = pd.read_csv('formatted_movies.csv')\n",
    "tv_df = pd.read_csv('formatted_tv.csv')\n",
    "books_df = pd.read_csv('books.csv')\n",
    "\n",
    "model_df = pd.read_csv('tokenized_model.csv')\n",
    "model_df = model_df.where((pd.notnull(model_df)), None)\n",
    "model_df.set_index('title',inplace=True)"
   ]
  },
  {
   "cell_type": "code",
   "execution_count": 5,
   "metadata": {
    "ExecuteTime": {
     "end_time": "2020-02-01T20:28:37.692717Z",
     "start_time": "2020-02-01T20:28:37.426436Z"
    }
   },
   "outputs": [],
   "source": [
    "#create a listing of all the genres for tv, movies, and books\n",
    "#TV\n",
    "full_tv_genres = list(tv_df['genres'])\n",
    "all_tv_genres = []\n",
    "complete_tv_genres = []\n",
    "action_tf = []\n",
    "\n",
    "for entry in full_tv_genres:\n",
    "    all_tv_genres.append(entry)\n",
    "    \n",
    "tv_range = list(range(0,1723))\n",
    "all_clean_tv_genres = []\n",
    "for entry in all_tv_genres:\n",
    "    entry = ast.literal_eval(entry)\n",
    "    complete_tv_genres.append(entry)\n",
    "    \n",
    "entire_tv_list = []\n",
    "for tv_group in complete_tv_genres:\n",
    "    for show in tv_group:\n",
    "        entire_tv_list.append(show)\n",
    "\n",
    "tv_set = set(entire_tv_list)\n",
    "\n",
    "\n",
    "#Movies\n",
    "full_movie_genres = list(movie_df['genres'])\n",
    "all_movie_genres = []\n",
    "complete_movie_genres = []\n",
    "\n",
    "for entry in full_movie_genres:\n",
    "    all_movie_genres.append(entry)\n",
    "    \n",
    "movie_range = list(range(0,1912))\n",
    "all_clean_movie_genres = []\n",
    "for entry in all_movie_genres:\n",
    "    entry = ast.literal_eval(entry)\n",
    "    complete_movie_genres.append(entry)\n",
    "        \n",
    "entire_movie_list = []\n",
    "for movie_group in complete_movie_genres:\n",
    "    for movie in movie_group:\n",
    "        entire_movie_list.append(movie)\n",
    "        \n",
    "movie_set = set(entire_movie_list)\n",
    "\n",
    "#Books\n",
    "full_book_genres = list(books_df['genres'])\n",
    "all_book_genres = []\n",
    "complete_book_genres = []\n",
    "\n",
    "for entry in full_book_genres:\n",
    "    all_book_genres.append(entry)\n",
    "    \n",
    "book_range = list(range(len(books_df)))\n",
    "all_clean_book_genres = []\n",
    "for entry in all_book_genres:\n",
    "    entry = ast.literal_eval(entry)\n",
    "    complete_book_genres.append(entry)\n",
    "        \n",
    "entire_book_list = []\n",
    "for book_group in complete_book_genres:\n",
    "    for book in book_group:\n",
    "        entire_book_list.append(book)\n",
    "        \n",
    "book_set = set(entire_book_list)\n",
    "\n",
    "#group the genre listings together\n",
    "\n",
    "reality = ['17th Century','18th Century','19th Century',\n",
    "           '20th Century','21st Century','Abuse','Academia','Academic',\n",
    "           'Activism','Adoption','Adult','Aeroplanes','African American',\n",
    "           'African Literature','Albanian Literature','Alcohol','Algeria',\n",
    "           'Amazon',' American Civil War','American Fiction',\n",
    "           'American History','American Revolution',\n",
    "           'American Revolutionary War','Americana','Amish',\n",
    "           'Ancient','Ancient History','Angels','Angola','Anthologies',\n",
    "           'Anthropology','Antisemitism','Apple','Archaeology',\n",
    "           'Architecture','Art','Art Design','Art History',\n",
    "           'Art and Photography','Arthurian','Artificial Intelligence',\n",
    "           'Asia','Asian Literature','Astronomy','Atheism','Australia',\n",
    "           'Autobiography','Aviation','Bande Dessinée','Bangladesh',\n",
    "           'Banned Books', 'Baseball','Basketball','Biblical Fiction',\n",
    "           'Biography','Biography Memoir','Biology','Birds','Books About Books',\n",
    "           'Botswana','Brain','Brazil','British Literature','Buddhism',\n",
    "           'Buisness','Bulgaria','Business','Canada','Canadian Literature',\n",
    "           'Cartography','Catholic','Cats','Central Africa','Chapter Books',\n",
    "           'China','Chinese Literature','Christian','Christian Fantasy',\n",
    "           'Christian Living','Christian Non Fiction','Christianity','Church',\n",
    "           ' Church History',' Cities',' Civil War',' Classical Studies',' Classics',\n",
    "           ' Clean Romance ',' Climate Change',' Climbing',' Coding',' Collections',\n",
    "           'Communication',' Computer Science',' Computers',' Conservation',' Conspiracy Theories',\n",
    "           ' Cookbooks',' Cooking',' Counselling','Crafts',' Crime',' Criticism',' Culinary',\n",
    "           ' Cults',' Cultural',' Cultural Studies',' Culture',' Currency','Cycling',' Czech Literature',\n",
    "           ' Danish','Death',' Denmark',' Design','Diary',' Dinosaurs',' Disability',' Disability Studies',\n",
    "           ' Discipleship',' Doctors','Drawing',' Dutch Literature',' Dystopia',' Earth Sciences',\n",
    "           ' Eastern Africa',' Ecology',' Economics',' Education',' Edwardian',' Egypt',\n",
    "           ' Emergency Services',' Emotion',' Engineering',' English History',' Entrepreneurship',\n",
    "           ' Environment','Essays',' Ethiopia',' European History',' European Literature',\n",
    "           ' Evangelism',' Evolution','Faith',' Family',' Family Law',' Feminism',' Feminist Theory','Film',\n",
    "           ' Finance',' Finnish Literature',' Fitness',' Folk Tales',' Folklore','Food History',\n",
    "           ' Food Writing',' Food and Drink',' Food and Wine','French Literature',' French Revolution','Game Design',\n",
    "           ' Games',' Gaming',' Gardening',' Gay',' Geek',' Gender',' Gender Studies',' Gender and Sexuality',\n",
    "           ' Genetics',' Geography',' Geology',' German Literature',' Germany',' Ghana','God',' Gods',' Google',\n",
    "           'Government','Greece',' Greek Mythology',' Green',' Health',' Health Care',' Historical',\n",
    "           'History Of Science',' Holocaust',' Horse Racing','Humanities',' Hungarian Literature',\n",
    "           ' Hungary',' India',' Indian Literature',' Inspirational',' International Development ',\n",
    "           ' International Literature',' International Relations',' Internet',' Interracial Romance',' Iran',\n",
    "           ' Ireland',' Irish Literature',' Islam',' Israel',' Italian Literature',' Italy',' Japan',\n",
    "           ' Japanese History',' Japanese Literature',' Jazz','Jewish',' Journal',' Journalism',' Judaica',\n",
    "           ' Judaism',' Juvenile',' Kenya','Labor',' Language',' Latin American',' Law',' Lds',\n",
    "           ' Lds Fiction',' Leadership',' Lebanon','Lesbian',' Linguistics',' Literary Criticism',\n",
    "           ' Literary Fiction',' Literature','Madagascar','Magical Realism',' Management',' Managers',' Maps',' Marathi',\n",
    "           ' Marriage',' Martial Arts','Mathematics',' Media Tie In','Medicine',' Medieval',' Medieval History',\n",
    "           'Memoir',' Mental Health',' Mental Illness',' Metaphysics',' Microhistory','Military',' Modern',\n",
    "           ' Money','Mormonism',' Morocco',' Moscow',' Mountaineering',' Movies',' Murder Mystery',' Music',\n",
    "           ' Music Biography',' Musicals',' Muslimah',' Muslims',' Native Americans',' Natural History',\n",
    "           ' Nature',' Naval History',' Neuroscience',' New Adult',' New Age',' New Testament',' New Weird',\n",
    "           ' New York',' Nigeria',' Nobel Prize',' Nonfiction','North American History',' Northern Africa',\n",
    "           ' Nursing',' Nutrition',' Old Testament',' Omegaverse',' Ornithology',' Own',' Paganism',' Pakistan',\n",
    "           ' Palaeontology','Personal Development',' Personal Finance',' Philosophy',' Photography',' Physics',' Picture Books',\n",
    "           ' Plays',' Poetry',' Poland',' Polish Literature',' Political Science',' Politics',' Polyamorous',\n",
    "           ' Polyamory',' Polygamy',' Pop Culture',' Popular Science',' Portugal',' Portuguese Literature',\n",
    "           ' Prehistory',' Presidents','Programming',' Religion',' Research','Roman','Romania','Russia',\n",
    "           ' Russian History',' Russian Literature',' Russian Revolution',' Rwanda',' Scandinavian Literature'\n",
    "           ,' Scandinavian Literature',' Scotland',' Self Help',' Senegal','Sierra Leone',' Social Issues',\n",
    "           ' Social Justice',' Social Media',' Social Movements',' Social Science',' Social Work',\n",
    "           ' Society',' Sociology',' South Africa',' Southern',' Southern Africa',' Southern Gothic',\n",
    "           ' Soviet Union',' Space',' Spain',' Spanish Literature','Spirituality','Sudan',' Sustainability',' Sweden',\n",
    "           ' Swedish Literature',' Tasmania',' Teaching',' Taoism',' Textbooks',' The United States Of America',\n",
    "           ' Theatre',' Theology',' Theory','Transport',' Travel',' Travelogue',' Tudor Period',\n",
    "           ' Turkish',' Turkish Literature','Uganda',' Ukraine',' United States','Vegan',' Vegetarian',' War',\n",
    "           ' Warfare','Western Africa',' Wilderness',' Wildlife','Womens Studies',' World History',\n",
    "           ' World War I',' World War II',' Writing',' Yaoi',' Zimbabwe']\n",
    "clean_reality = [x.strip() for x in reality]\n",
    "\n",
    "anime = ['Comic Book',' Comic Fantasy',' Comic Strips',' Comics',\n",
    "         ' Comics Manga',' Drawing',' Manga']\n",
    "clean_anime = [x.strip() for x in anime]\n",
    "\n",
    "classics = ['Classics']\n",
    "\n",
    "comedy = ['Cartoon','Comedy','Humor']\n",
    "\n",
    "action = ['Action','Adventure','Aliens',' Apocalyptic',' Batman','Combat',\n",
    "          ' Dc Comics',' Doctor Who',' Dungeons and Dragons',' Epic',\n",
    "          ' Epic Fantasy',' Ghost Stories',' Ghosts','Magic',' Martial Arts',\n",
    "          ' Marvel','Monsters','Racing',' Robots',' Star Trek',' Star Wars',\n",
    "          'Superheroes',' Superman',' Supernatural',' Survival',' Sword and Sorcery',\n",
    "          ' Vampires','Witches',' Wolves',' Zombies']\n",
    "clean_action = [x.strip() for x in action]\n",
    "\n",
    "adventure = ['      Adventure',' Animal Fiction ' ,'Apocalyptic    ',' Bizarro Fiction'  ,\n",
    "             'College  ',' Coming Of Age  ',' Cyberpunk  ',' Doctor Who  '  ,\n",
    "             ' Dragons  ',' Dungeons and Dragons    ',' Dystopia    ',' Fables  ',\n",
    "             ' Fairies  ','Fantasy   ',' Heroic Fantasy  ',' Marvel    ',\n",
    "             'Military Fiction  ',' Monsters    ',' Pirates  ',' Star Trek ',\n",
    "             ' Superheroes    ',' Superman    ',' Time Travel  ',\n",
    "             ' Time Travel Romance  ',' Wildlife    ']\n",
    "clean_adventure = [x.strip() for x in adventure]\n",
    "\n",
    "children = ['Beauty and The Beast ','Childrens','Cinderella ',\n",
    "            'Comic Book',' Comic Fantasy',' Comic Strips',' Comics',\n",
    "            ' Comics Manga',' Coming Of Age','Dc Comics',' Doctor Who',\n",
    "            'Dungeons and Dragons',' Musicals ',' Picture Books','Star Trek',\n",
    "            ' Star Wars',' Teen ','Young Adult',' Young Adult Contemporary',\n",
    "            ' Young Adult Fantasy ',' Young Adult Historical Fiction',\n",
    "            ' Young Adult Paranormal ',' Young Adult Romance ',' Young Readers ']\n",
    "clean_children = [x.strip() for x in children]\n",
    "\n",
    "documentaries = [' Alternate History','American History ','Ancient History  ',\n",
    "                 'Art History  ','Church History  ',' English History ',\n",
    "                 ' European History  ',' Food History  ',' History  ',\n",
    "                 ' History Of Science  ','Japanese History ','Medieval History  ',\n",
    "                 'Microhistory  ','Military History',' Natural History  ',\n",
    "                 'Naval History  ',' North American History  ','Prehistory  ',\n",
    "                 ' Russian History  ',' World History  ']\n",
    "clean_docs = [x.strip() for x in documentaries]\n",
    "\n",
    "dramas = [' Adult Fiction ',' Apocalyptic ',' Cyberpunk',' Dc Comics    ',\n",
    "          ' Dragons  ',' Dungeons and Dragons ',' High School',\n",
    "          ' Monsters    ',' Murder Mystery',' Mystery',\n",
    "          ' Mystery Thriller',' Police',' Shapeshifters',\n",
    "          ' Space Opera','Spy Thriller',' Star Trek   ',\n",
    "          ' Star Wars    ',' Superheroes ',' Supernatural  ',\n",
    "          ' Survival  ',' Sword and Sorcery  ',' Thriller',\n",
    "          ' Tragedy',' True Crime',' Vampires  ',' Victor Frankenstein',\n",
    "          'War  ',' Warfare  ',' Werewolves',' World War I  ',\n",
    "          ' World War II  ',' Young Adult Fantasy  ',\n",
    "          'Young Adult Paranormal  ',' Young Adult Romance  ']\n",
    "clean_dramas = [x.strip() for x in dramas]\n",
    "\n",
    "fantasy = ['Animal Fiction   ','Batman ',' Christian Fantasy ',\n",
    "           ' Cinderella',' Comic Fantasy ',' Cyberpunk ',\n",
    "           ' Dark Fantasy',' Dc Comics',' Doctor Who ',' Dragons ',\n",
    "           ' Dungeons and Dragons',' Epic Fantasy ',\n",
    "           ' Fables - Adventure',' Fae',' Fairies ',\n",
    "           ' Fairy Tale Retellings',' Fairy Tales',' Fantasy  ',\n",
    "           ' Fantasy Romance','Folk Tales ',' Folklore ',' Futurism',\n",
    "           ' Ghost Stories',' Greek Mythology',' Heroic Fantasy ',\n",
    "           ' High Fantasy',' Historical Fantasy',' M M Fantasy',\n",
    "           ' Magic ',' Manga',' Mermaids',' Monsters ',' Robots ',\n",
    "           ' Science Fiction',' Science Fiction Fantasy',\n",
    "           ' Shapeshifters',' Star Trek ',' Star Wars',\n",
    "           ' Superheroes',' Superman ',' Supernatural',\n",
    "           ' Sword and Sorcery',' Time Travel' ,\n",
    "           ' Time Travel Romance',' Urban Fantasy',' Vampires ',\n",
    "           ' Werewolves',' Young Adult Fantasy']\n",
    "clean_fantasy = [x.strip() for x in fantasy]\n",
    "\n",
    "horror = [' Demons ',' Dystopia','Ghost Stories',\n",
    "          ' Ghosts','  Gothic',' Horror',' Monsters',\n",
    "          ' True Crime',' Vampires ',' Victor Frankenstein',\n",
    "          ' Werewolves',' Witches']\n",
    "clean_horror = [x.strip() for x in horror]\n",
    "\n",
    "international = ['Africa    ',' Algeria    ',' Amazon    ',\n",
    "                 ' American    ',' Angola    ',' Asia    ',\n",
    "                 'Australia    ',' Bangladesh    ',' Botswana    ',\n",
    "                 ' Brazil    ',' Bulgaria    ',' Canada    ',\n",
    "                 ' Central Africa    ',' China    ',' Danish    ',\n",
    "                 ' Denmark    ',' Eastern Africa    ',' Egypt    ',\n",
    "                 ' Ethiopia    ',' France    ',' Germany    ',\n",
    "                 ' Ghana    ',' Greece    ','Hungary    ',' India    ',\n",
    "                 ' Iran    ',' Ireland    ',' Israel    ','Italy    ',\n",
    "                 ' Japan    ',' Kenya    ',' Lebanon     ',\n",
    "                 ' Madagascar    ',' Morocco  '  ,' Moscow    ',\n",
    "                 ' Nigeria    ',' Northern Africa    ',' Pakistan    ',\n",
    "                 ' Poland    ',' Roman    ',' Romania    ',\n",
    "                 ' Russia    ',' Rwanda    ',' Scotland    ',' Sierra Leone    ',\n",
    "                 'South Africa    ',' Southern    ',' Southern Africa    ',\n",
    "                 ' Soviet Union    ',' Spain    ',' Sudan    ',\n",
    "                 ' Sweden    ',' The United States Of America    ',\n",
    "                 ' Turkish    ',' Uganda    ',' Ukraine    ',\n",
    "                 ' United States    ',' Western Africa    ',\n",
    "                 ' Westerns  ',' Zimbabwe  ']\n",
    "clean_international = [x.strip() for x in international]\n",
    "\n",
    "romantic = ['BDSM ',' Christian Romance ' ,' Cinderella    Fantasy',\n",
    "            ' Erotic Romance',' Historical Romance',\n",
    "            ' Interracial Romance  ',' Lovecraftian',\n",
    "            ' Medieval Romance ',' Military Romance',\n",
    "            ' Paranormal Romance',' Regency Romance',\n",
    "            'Romance',' Romania  ',\n",
    "            ' Science Fiction Romance',' Sports Romance',\n",
    "            ' Western Romance']\n",
    "clean_romantic = [x.strip() for x in romantic]\n",
    "\n",
    "scifi = [ 'Animal Fiction', 'Artificial Intelligence  ',' Cyberpunk',\n",
    "         'Dark Fantasy ',' Demons',' Doctor Who ',' Dragons ',\n",
    "         ' Dungeons and Dragons',' Epic Fantasy ',' Futurism',\n",
    "         ' Futuristic ',' Ghost Stories ',' Ghosts ',\n",
    "         ' Hard Science Fiction ',' Magic ',' Paranormal',\n",
    "         ' Paranormal Mystery ',' Paranormal Romance',' Popular Science ',\n",
    "         ' Science Fiction',' Science Fiction Fantasy',\n",
    "         ' Science Fiction Romance',' Space Opera',' Star Trek ',\n",
    "         ' Star Wars',' Superheroes',' Superman',' Supernatural',\n",
    "         ' Unicorns',' Utopia',' Victor Frankenstein',\n",
    "         ' Weird Fiction',' Werewolves',' Zombies']\n",
    "clean_scifi = [x.strip() for x in scifi]\n",
    "\n",
    "thriller = ['Aliens ','Cozy Mystery','Crime ',' Demons ',\n",
    "            'Detective','Dinosaurs ',' Dragons ',' Legal Thriller',\n",
    "            'Murder Mystery',' Mystery',' Mystery Thriller',\n",
    "            'Nordic Noir','Occult','Paranormal Mystery ',\n",
    "            ' Spy Thriller',' Thriller']\n",
    "clean_thriller = [x.strip() for x in thriller]"
   ]
  },
  {
   "cell_type": "code",
   "execution_count": 6,
   "metadata": {
    "ExecuteTime": {
     "end_time": "2020-02-01T20:28:53.662782Z",
     "start_time": "2020-02-01T20:28:53.246047Z"
    }
   },
   "outputs": [
    {
     "data": {
      "image/png": "[encoded data removed]",
      "text/plain": [
       "<Figure size 792x432 with 1 Axes>"
      ]
     },
     "metadata": {
      "needs_background": "light"
     },
     "output_type": "display_data"
    }
   ],
   "source": [
    "ax = pd.value_counts(entire_movie_list).plot.barh(title='Netflix Movie Genre Distribution', figsize=(11,6), color='red');\n",
    "ax.set_xlabel('Number of movies')\n",
    "ax.set_ylabel('Genre')\n",
    "plt.xticks(rotation = 0)\n",
    "plt.savefig('netflix_movie_genres.png');"
   ]
  },
  {
   "cell_type": "code",
   "execution_count": 7,
   "metadata": {
    "ExecuteTime": {
     "end_time": "2020-02-01T20:29:00.600544Z",
     "start_time": "2020-02-01T20:29:00.325510Z"
    }
   },
   "outputs": [
    {
     "data": {
      "image/png": "[encoded data removed]",
      "text/plain": [
       "<Figure size 792x432 with 1 Axes>"
      ]
     },
     "metadata": {
      "needs_background": "light"
     },
     "output_type": "display_data"
    }
   ],
   "source": [
    "ax2 = pd.value_counts(entire_tv_list).plot.barh(title='Netflix TV Genre Distribution', figsize=(11,6), color='red')\n",
    "ax2.set_xlabel('Number of shows')\n",
    "ax2.set_ylabel('Genre')\n",
    "plt.savefig('netflix_tv_genres.png');"
   ]
  },
  {
   "cell_type": "code",
   "execution_count": 8,
   "metadata": {
    "ExecuteTime": {
     "end_time": "2020-02-01T20:29:47.749257Z",
     "start_time": "2020-02-01T20:29:47.542566Z"
    }
   },
   "outputs": [
    {
     "data": {
      "image/png": "[encoded data removed]",
      "text/plain": [
       "<Figure size 792x432 with 1 Axes>"
      ]
     },
     "metadata": {
      "needs_background": "light"
     },
     "output_type": "display_data"
    }
   ],
   "source": [
    "ax3 = (model_df['media_type'].value_counts()).plot.barh(title='Media Distribution', color='red', figsize=(11,6))\n",
    "ax3.set_xlabel('Number of Instances')\n",
    "ax3.set_ylabel('Media Type')\n",
    "plt.savefig('media_distribution.png');"
   ]
  },
  {
   "cell_type": "code",
   "execution_count": 9,
   "metadata": {
    "ExecuteTime": {
     "end_time": "2020-02-01T20:29:52.199522Z",
     "start_time": "2020-02-01T20:29:51.953484Z"
    }
   },
   "outputs": [
    {
     "data": {
      "image/png": "[encoded data removed]",
      "text/plain": [
       "<Figure size 792x432 with 1 Axes>"
      ]
     },
     "metadata": {
      "needs_background": "light"
     },
     "output_type": "display_data"
    }
   ],
   "source": [
    "ax4 = (model_df['score'].value_counts()).plot.barh(title='Approximate Ratings', color='red', figsize=(11,6))\n",
    "ax4.set_ylabel('Approximate Rating')\n",
    "ax4.set_xlabel('Number of Instances')\n",
    "plt.savefig('rounded_ratings.png');"
   ]
  },
  {
   "cell_type": "code",
   "execution_count": 10,
   "metadata": {
    "ExecuteTime": {
     "end_time": "2020-02-01T20:29:53.878171Z",
     "start_time": "2020-02-01T20:29:53.578164Z"
    }
   },
   "outputs": [
    {
     "data": {
      "image/png": "[encoded data removed]",
      "text/plain": [
       "<Figure size 432x288 with 1 Axes>"
      ]
     },
     "metadata": {
      "needs_background": "light"
     },
     "output_type": "display_data"
    }
   ],
   "source": [
    "books_df['International'].value_counts()\n",
    "books_international_count = 279\n",
    "books_df['Dramas'].value_counts()\n",
    "books_dramas_count = 721\n",
    "books_df['Comedy'].value_counts()\n",
    "books_comedy_count = 128\n",
    "books_df['Children'].value_counts()\n",
    "books_children_count = 252\n",
    "books_df['Documentaries'].value_counts()\n",
    "books_documentaries_count = 167\n",
    "books_df['Romantic'].value_counts()\n",
    "books_romantic_count = 399\n",
    "books_df['Reality'].value_counts()\n",
    "books_reality_count = 2627\n",
    "books_df['Anime'].value_counts()\n",
    "books_anime_count = 21\n",
    "books_df['Cult'].value_counts()\n",
    "books_cult_count = 9\n",
    "books_df['Action'].value_counts()\n",
    "books_action_count = 382\n",
    "books_df['Adventure'].value_counts()\n",
    "books_adventure_count = 524\n",
    "books_df['Fantasy'].value_counts()\n",
    "books_fantasy_count = 893\n",
    "books_df['Horror'].value_counts()\n",
    "books_horror_count = 219\n",
    "books_df['Sci-Fi'].value_counts()\n",
    "books_scifi_count = 673\n",
    "books_df['Thriller'].value_counts()\n",
    "books_thriller_count = 496\n",
    "\n",
    "plt.barh(['Reality', 'Anime', 'Cult', 'Comedy', \n",
    "         'Action', 'Adventure', 'Children',\n",
    "         'Documentaries', 'Dramas', 'Fantasy',\n",
    "         'Horror', 'International','Romantic', 'Sci-Fi', 'Thriller'], \n",
    "        [books_reality_count,books_anime_count,books_cult_count, \n",
    "         books_comedy_count,books_action_count,books_adventure_count,\n",
    "         books_children_count, books_documentaries_count,books_dramas_count,\n",
    "         books_fantasy_count,books_horror_count,books_international_count,\n",
    "         books_romantic_count,books_scifi_count, books_thriller_count],color='red')\n",
    "plt.ylabel('Genres')\n",
    "plt.xlabel('Number of books')\n",
    "plt.title(\"Goodreads Best of the 21's Century Genres\")\n",
    "plt.savefig('goodreads.png');"
   ]
  },
  {
   "cell_type": "code",
   "execution_count": 11,
   "metadata": {
    "ExecuteTime": {
     "end_time": "2020-02-01T20:30:59.780033Z",
     "start_time": "2020-02-01T20:30:59.596681Z"
    }
   },
   "outputs": [
    {
     "data": {
      "image/png": "[encoded data removed]",
      "text/plain": [
       "<Figure size 432x288 with 1 Axes>"
      ]
     },
     "metadata": {
      "needs_background": "light"
     },
     "output_type": "display_data"
    }
   ],
   "source": [
    "#EDA on plot lengths \n",
    "\n",
    "#TV\n",
    "tv_plot_lengths = []\n",
    "\n",
    "for plot in tv_df['plot']:\n",
    "    tv_plot_lengths.append(len(plot))\n",
    "\n",
    "average_tv_length = round(mean(tv_plot_lengths))\n",
    "median_tv_length = median(tv_plot_lengths)\n",
    "mode_tv_length = mode(tv_plot_lengths)\n",
    "\n",
    "#Movies\n",
    "movie_plot_lengths = []\n",
    "\n",
    "for plot in movie_df['plot']:\n",
    "    movie_plot_lengths.append(len(plot))\n",
    "    \n",
    "average_movie_length = round(mean(movie_plot_lengths))\n",
    "median_movie_length = median(movie_plot_lengths)\n",
    "mode_movie_length = mode(movie_plot_lengths)\n",
    "\n",
    "#Books\n",
    "book_plot_length = []\n",
    "for plot in books_df['text']:\n",
    "    book_plot_length.append(len(plot))\n",
    "\n",
    "average_book_length = round(mean(book_plot_length))\n",
    "median_book_length = round(median(book_plot_length))\n",
    "mode_book_length = mode(book_plot_length)\n",
    "\n",
    "texts = [average_movie_length, average_tv_length, average_book_length]\n",
    "plt.bar(['Netflix movies', 'Netflix TV shows', 'Books'],texts,color='red')\n",
    "# fig.plot.bar(media_types,texts,color='red')\n",
    "plt.title('Average Plot Description Length');\n",
    "plt.ylabel('Source')\n",
    "plt.xlabel('Word count')\n",
    "plt.savefig('plot_length.png')"
   ]
  }
 ],
 "metadata": {
  "kernelspec": {
   "display_name": "Python 3",
   "language": "python",
   "name": "python3"
  },
  "language_info": {
   "codemirror_mode": {
    "name": "ipython",
    "version": 3
   },
   "file_extension": ".py",
   "mimetype": "text/x-python",
   "name": "python",
   "nbconvert_exporter": "python",
   "pygments_lexer": "ipython3",
   "version": "3.7.3"
  }
 },
 "nbformat": 4,
 "nbformat_minor": 2
}
